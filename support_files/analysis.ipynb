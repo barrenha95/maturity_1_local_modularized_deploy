{
 "cells": [
  {
   "cell_type": "code",
   "execution_count": 1,
   "id": "89ab8c76",
   "metadata": {},
   "outputs": [],
   "source": [
    "# Imports for data handling\n",
    "import numpy  as np\n",
    "import pandas as pd\n",
    "import datetime\n",
    "\n",
    "\n",
    "# Imports for machine learning model\n",
    "from sklearn.model_selection import train_test_split"
   ]
  },
  {
   "cell_type": "markdown",
   "id": "f96b30dc",
   "metadata": {},
   "source": [
    "# Splitting data for training and evalution of the model"
   ]
  },
  {
   "cell_type": "code",
   "execution_count": 2,
   "id": "a210c12d",
   "metadata": {},
   "outputs": [
    {
     "data": {
      "text/plain": [
       "(5000, 13)"
      ]
     },
     "execution_count": 2,
     "metadata": {},
     "output_type": "execute_result"
    }
   ],
   "source": [
    "dataset = pd.read_csv('../data/original_data.csv', parse_dates=['Timestamp'])\n",
    "dataset.shape"
   ]
  },
  {
   "cell_type": "code",
   "execution_count": 3,
   "id": "1abca17f",
   "metadata": {},
   "outputs": [
    {
     "data": {
      "text/html": [
       "<div>\n",
       "<style scoped>\n",
       "    .dataframe tbody tr th:only-of-type {\n",
       "        vertical-align: middle;\n",
       "    }\n",
       "\n",
       "    .dataframe tbody tr th {\n",
       "        vertical-align: top;\n",
       "    }\n",
       "\n",
       "    .dataframe thead th {\n",
       "        text-align: right;\n",
       "    }\n",
       "</style>\n",
       "<table border=\"1\" class=\"dataframe\">\n",
       "  <thead>\n",
       "    <tr style=\"text-align: right;\">\n",
       "      <th></th>\n",
       "      <th>Transaction_ID</th>\n",
       "      <th>Timestamp</th>\n",
       "      <th>Vehicle_Type</th>\n",
       "      <th>FastagID</th>\n",
       "      <th>TollBoothID</th>\n",
       "      <th>Lane_Type</th>\n",
       "      <th>Vehicle_Dimensions</th>\n",
       "      <th>Transaction_Amount</th>\n",
       "      <th>Amount_paid</th>\n",
       "      <th>Geographical_Location</th>\n",
       "      <th>Vehicle_Speed</th>\n",
       "      <th>Vehicle_Plate_Number</th>\n",
       "      <th>Fraud_indicator</th>\n",
       "    </tr>\n",
       "  </thead>\n",
       "  <tbody>\n",
       "    <tr>\n",
       "      <th>0</th>\n",
       "      <td>1</td>\n",
       "      <td>2023-01-06 11:20:00</td>\n",
       "      <td>Bus</td>\n",
       "      <td>FTG-001-ABC-121</td>\n",
       "      <td>A-101</td>\n",
       "      <td>Express</td>\n",
       "      <td>Large</td>\n",
       "      <td>350</td>\n",
       "      <td>120</td>\n",
       "      <td>13.059816123454882, 77.77068662374292</td>\n",
       "      <td>65</td>\n",
       "      <td>KA11AB1234</td>\n",
       "      <td>Fraud</td>\n",
       "    </tr>\n",
       "    <tr>\n",
       "      <th>1</th>\n",
       "      <td>2</td>\n",
       "      <td>2023-01-07 14:55:00</td>\n",
       "      <td>Car</td>\n",
       "      <td>FTG-002-XYZ-451</td>\n",
       "      <td>B-102</td>\n",
       "      <td>Regular</td>\n",
       "      <td>Small</td>\n",
       "      <td>120</td>\n",
       "      <td>100</td>\n",
       "      <td>13.059816123454882, 77.77068662374292</td>\n",
       "      <td>78</td>\n",
       "      <td>KA66CD5678</td>\n",
       "      <td>Fraud</td>\n",
       "    </tr>\n",
       "    <tr>\n",
       "      <th>2</th>\n",
       "      <td>3</td>\n",
       "      <td>2023-01-08 18:25:00</td>\n",
       "      <td>Motorcycle</td>\n",
       "      <td>NaN</td>\n",
       "      <td>D-104</td>\n",
       "      <td>Regular</td>\n",
       "      <td>Small</td>\n",
       "      <td>0</td>\n",
       "      <td>0</td>\n",
       "      <td>13.059816123454882, 77.77068662374292</td>\n",
       "      <td>53</td>\n",
       "      <td>KA88EF9012</td>\n",
       "      <td>Not Fraud</td>\n",
       "    </tr>\n",
       "    <tr>\n",
       "      <th>3</th>\n",
       "      <td>4</td>\n",
       "      <td>2023-01-09 02:05:00</td>\n",
       "      <td>Truck</td>\n",
       "      <td>FTG-044-LMN-322</td>\n",
       "      <td>C-103</td>\n",
       "      <td>Regular</td>\n",
       "      <td>Large</td>\n",
       "      <td>350</td>\n",
       "      <td>120</td>\n",
       "      <td>13.059816123454882, 77.77068662374292</td>\n",
       "      <td>92</td>\n",
       "      <td>KA11GH3456</td>\n",
       "      <td>Fraud</td>\n",
       "    </tr>\n",
       "    <tr>\n",
       "      <th>4</th>\n",
       "      <td>5</td>\n",
       "      <td>2023-01-10 06:35:00</td>\n",
       "      <td>Van</td>\n",
       "      <td>FTG-505-DEF-652</td>\n",
       "      <td>B-102</td>\n",
       "      <td>Express</td>\n",
       "      <td>Medium</td>\n",
       "      <td>140</td>\n",
       "      <td>100</td>\n",
       "      <td>13.059816123454882, 77.77068662374292</td>\n",
       "      <td>60</td>\n",
       "      <td>KA44IJ6789</td>\n",
       "      <td>Fraud</td>\n",
       "    </tr>\n",
       "  </tbody>\n",
       "</table>\n",
       "</div>"
      ],
      "text/plain": [
       "   Transaction_ID           Timestamp Vehicle_Type         FastagID  \\\n",
       "0               1 2023-01-06 11:20:00         Bus   FTG-001-ABC-121   \n",
       "1               2 2023-01-07 14:55:00          Car  FTG-002-XYZ-451   \n",
       "2               3 2023-01-08 18:25:00   Motorcycle              NaN   \n",
       "3               4 2023-01-09 02:05:00        Truck  FTG-044-LMN-322   \n",
       "4               5 2023-01-10 06:35:00          Van  FTG-505-DEF-652   \n",
       "\n",
       "  TollBoothID Lane_Type Vehicle_Dimensions  Transaction_Amount  Amount_paid  \\\n",
       "0       A-101   Express              Large                 350          120   \n",
       "1       B-102   Regular              Small                 120          100   \n",
       "2       D-104   Regular              Small                   0            0   \n",
       "3       C-103   Regular              Large                 350          120   \n",
       "4       B-102   Express             Medium                 140          100   \n",
       "\n",
       "                   Geographical_Location  Vehicle_Speed Vehicle_Plate_Number  \\\n",
       "0  13.059816123454882, 77.77068662374292             65           KA11AB1234   \n",
       "1  13.059816123454882, 77.77068662374292             78           KA66CD5678   \n",
       "2  13.059816123454882, 77.77068662374292             53           KA88EF9012   \n",
       "3  13.059816123454882, 77.77068662374292             92           KA11GH3456   \n",
       "4  13.059816123454882, 77.77068662374292             60           KA44IJ6789   \n",
       "\n",
       "  Fraud_indicator  \n",
       "0           Fraud  \n",
       "1           Fraud  \n",
       "2       Not Fraud  \n",
       "3           Fraud  \n",
       "4           Fraud  "
      ]
     },
     "execution_count": 3,
     "metadata": {},
     "output_type": "execute_result"
    }
   ],
   "source": [
    "dataset.head(5)"
   ]
  },
  {
   "cell_type": "markdown",
   "id": "18019719",
   "metadata": {},
   "source": [
    "This dataset has biggest challenges in data handling compared to the last project.\n",
    "As you can see there are many text columns and some of them need to be handled to extract the max prediction power possible.\n",
    "\n",
    "Here are some ideas we will try:\n",
    "- Instead of split the dataset into aleatory train and test, split using cronological criteria\n",
    "- Split date and time, maybe frauds could happens more in an certain time\n",
    "- Create historical features for example: how many frauds this customer had? how many frauds in this place?"
   ]
  },
  {
   "cell_type": "markdown",
   "id": "031ab4d4",
   "metadata": {},
   "source": [
    "# Timestamp analysis"
   ]
  },
  {
   "cell_type": "code",
   "execution_count": 4,
   "id": "779b4bbc",
   "metadata": {},
   "outputs": [
    {
     "data": {
      "text/html": [
       "<div>\n",
       "<style scoped>\n",
       "    .dataframe tbody tr th:only-of-type {\n",
       "        vertical-align: middle;\n",
       "    }\n",
       "\n",
       "    .dataframe tbody tr th {\n",
       "        vertical-align: top;\n",
       "    }\n",
       "\n",
       "    .dataframe thead th {\n",
       "        text-align: right;\n",
       "    }\n",
       "</style>\n",
       "<table border=\"1\" class=\"dataframe\">\n",
       "  <thead>\n",
       "    <tr style=\"text-align: right;\">\n",
       "      <th></th>\n",
       "      <th>Transaction_ID</th>\n",
       "      <th>Timestamp</th>\n",
       "      <th>Vehicle_Type</th>\n",
       "      <th>FastagID</th>\n",
       "      <th>TollBoothID</th>\n",
       "      <th>Lane_Type</th>\n",
       "      <th>Vehicle_Dimensions</th>\n",
       "      <th>Transaction_Amount</th>\n",
       "      <th>Amount_paid</th>\n",
       "      <th>Geographical_Location</th>\n",
       "      <th>Vehicle_Speed</th>\n",
       "      <th>Vehicle_Plate_Number</th>\n",
       "      <th>Fraud_indicator</th>\n",
       "      <th>Date</th>\n",
       "      <th>Day</th>\n",
       "      <th>Hour</th>\n",
       "    </tr>\n",
       "  </thead>\n",
       "  <tbody>\n",
       "    <tr>\n",
       "      <th>0</th>\n",
       "      <td>1</td>\n",
       "      <td>2023-01-06 11:20:00</td>\n",
       "      <td>Bus</td>\n",
       "      <td>FTG-001-ABC-121</td>\n",
       "      <td>A-101</td>\n",
       "      <td>Express</td>\n",
       "      <td>Large</td>\n",
       "      <td>350</td>\n",
       "      <td>120</td>\n",
       "      <td>13.059816123454882, 77.77068662374292</td>\n",
       "      <td>65</td>\n",
       "      <td>KA11AB1234</td>\n",
       "      <td>Fraud</td>\n",
       "      <td>2023-01-06</td>\n",
       "      <td>6</td>\n",
       "      <td>11</td>\n",
       "    </tr>\n",
       "    <tr>\n",
       "      <th>1</th>\n",
       "      <td>2</td>\n",
       "      <td>2023-01-07 14:55:00</td>\n",
       "      <td>Car</td>\n",
       "      <td>FTG-002-XYZ-451</td>\n",
       "      <td>B-102</td>\n",
       "      <td>Regular</td>\n",
       "      <td>Small</td>\n",
       "      <td>120</td>\n",
       "      <td>100</td>\n",
       "      <td>13.059816123454882, 77.77068662374292</td>\n",
       "      <td>78</td>\n",
       "      <td>KA66CD5678</td>\n",
       "      <td>Fraud</td>\n",
       "      <td>2023-01-07</td>\n",
       "      <td>7</td>\n",
       "      <td>14</td>\n",
       "    </tr>\n",
       "    <tr>\n",
       "      <th>2</th>\n",
       "      <td>3</td>\n",
       "      <td>2023-01-08 18:25:00</td>\n",
       "      <td>Motorcycle</td>\n",
       "      <td>NaN</td>\n",
       "      <td>D-104</td>\n",
       "      <td>Regular</td>\n",
       "      <td>Small</td>\n",
       "      <td>0</td>\n",
       "      <td>0</td>\n",
       "      <td>13.059816123454882, 77.77068662374292</td>\n",
       "      <td>53</td>\n",
       "      <td>KA88EF9012</td>\n",
       "      <td>Not Fraud</td>\n",
       "      <td>2023-01-08</td>\n",
       "      <td>8</td>\n",
       "      <td>18</td>\n",
       "    </tr>\n",
       "    <tr>\n",
       "      <th>3</th>\n",
       "      <td>4</td>\n",
       "      <td>2023-01-09 02:05:00</td>\n",
       "      <td>Truck</td>\n",
       "      <td>FTG-044-LMN-322</td>\n",
       "      <td>C-103</td>\n",
       "      <td>Regular</td>\n",
       "      <td>Large</td>\n",
       "      <td>350</td>\n",
       "      <td>120</td>\n",
       "      <td>13.059816123454882, 77.77068662374292</td>\n",
       "      <td>92</td>\n",
       "      <td>KA11GH3456</td>\n",
       "      <td>Fraud</td>\n",
       "      <td>2023-01-09</td>\n",
       "      <td>9</td>\n",
       "      <td>2</td>\n",
       "    </tr>\n",
       "    <tr>\n",
       "      <th>4</th>\n",
       "      <td>5</td>\n",
       "      <td>2023-01-10 06:35:00</td>\n",
       "      <td>Van</td>\n",
       "      <td>FTG-505-DEF-652</td>\n",
       "      <td>B-102</td>\n",
       "      <td>Express</td>\n",
       "      <td>Medium</td>\n",
       "      <td>140</td>\n",
       "      <td>100</td>\n",
       "      <td>13.059816123454882, 77.77068662374292</td>\n",
       "      <td>60</td>\n",
       "      <td>KA44IJ6789</td>\n",
       "      <td>Fraud</td>\n",
       "      <td>2023-01-10</td>\n",
       "      <td>10</td>\n",
       "      <td>6</td>\n",
       "    </tr>\n",
       "  </tbody>\n",
       "</table>\n",
       "</div>"
      ],
      "text/plain": [
       "   Transaction_ID           Timestamp Vehicle_Type         FastagID  \\\n",
       "0               1 2023-01-06 11:20:00         Bus   FTG-001-ABC-121   \n",
       "1               2 2023-01-07 14:55:00          Car  FTG-002-XYZ-451   \n",
       "2               3 2023-01-08 18:25:00   Motorcycle              NaN   \n",
       "3               4 2023-01-09 02:05:00        Truck  FTG-044-LMN-322   \n",
       "4               5 2023-01-10 06:35:00          Van  FTG-505-DEF-652   \n",
       "\n",
       "  TollBoothID Lane_Type Vehicle_Dimensions  Transaction_Amount  Amount_paid  \\\n",
       "0       A-101   Express              Large                 350          120   \n",
       "1       B-102   Regular              Small                 120          100   \n",
       "2       D-104   Regular              Small                   0            0   \n",
       "3       C-103   Regular              Large                 350          120   \n",
       "4       B-102   Express             Medium                 140          100   \n",
       "\n",
       "                   Geographical_Location  Vehicle_Speed Vehicle_Plate_Number  \\\n",
       "0  13.059816123454882, 77.77068662374292             65           KA11AB1234   \n",
       "1  13.059816123454882, 77.77068662374292             78           KA66CD5678   \n",
       "2  13.059816123454882, 77.77068662374292             53           KA88EF9012   \n",
       "3  13.059816123454882, 77.77068662374292             92           KA11GH3456   \n",
       "4  13.059816123454882, 77.77068662374292             60           KA44IJ6789   \n",
       "\n",
       "  Fraud_indicator        Date  Day  Hour  \n",
       "0           Fraud  2023-01-06    6    11  \n",
       "1           Fraud  2023-01-07    7    14  \n",
       "2       Not Fraud  2023-01-08    8    18  \n",
       "3           Fraud  2023-01-09    9     2  \n",
       "4           Fraud  2023-01-10   10     6  "
      ]
     },
     "execution_count": 4,
     "metadata": {},
     "output_type": "execute_result"
    }
   ],
   "source": [
    "dataset['Date'] = dataset['Timestamp'].dt.date\n",
    "dataset['Day']  = dataset['Timestamp'].dt.day\n",
    "dataset['Hour'] = dataset['Timestamp'].dt.hour\n",
    "dataset.head(5)"
   ]
  },
  {
   "cell_type": "code",
   "execution_count": 5,
   "id": "b7deed19",
   "metadata": {},
   "outputs": [
    {
     "data": {
      "text/plain": [
       "Timestamp\n",
       "2023    5000\n",
       "Name: count, dtype: int64"
      ]
     },
     "metadata": {},
     "output_type": "display_data"
    }
   ],
   "source": [
    "# There are only data of 2023\n",
    "category_counts = dataset['Timestamp'].dt.year.value_counts()\n",
    "display(category_counts)\n"
   ]
  },
  {
   "cell_type": "code",
   "execution_count": 6,
   "id": "6c30360b",
   "metadata": {},
   "outputs": [
    {
     "data": {
      "text/plain": [
       "Timestamp\n",
       "1     546\n",
       "3     514\n",
       "2     511\n",
       "4     462\n",
       "5     445\n",
       "6     418\n",
       "7     378\n",
       "8     374\n",
       "9     363\n",
       "10    338\n",
       "11    327\n",
       "12    324\n",
       "Name: count, dtype: int64"
      ]
     },
     "metadata": {},
     "output_type": "display_data"
    }
   ],
   "source": [
    "# We can see that the data is balanced  along the months.\n",
    "# An ideia is to split the train data until October and use November + December as test data\n",
    "category_counts = dataset['Timestamp'].dt.month.value_counts()\n",
    "display(category_counts)\n"
   ]
  },
  {
   "cell_type": "code",
   "execution_count": 7,
   "id": "cb00f7bc",
   "metadata": {},
   "outputs": [],
   "source": [
    "# Splitting into train and test using the timestamp column\n",
    "## The idea is to use older data to train and newer data to test, this can bring more confidence that the model is usable with new data\n",
    "df_sorted = dataset.sort_values(by='Timestamp')\n",
    "\n",
    "split_date = pd.to_datetime('2023-11-01')\n",
    "train_df = df_sorted[df_sorted['Timestamp'] < split_date]\n",
    "test_df = df_sorted[df_sorted['Timestamp'] >= split_date]"
   ]
  },
  {
   "cell_type": "code",
   "execution_count": 8,
   "id": "4046cfb1",
   "metadata": {},
   "outputs": [],
   "source": [
    "y_train = train_df['Fraud_indicator']\n",
    "X_train = train_df.drop(['Fraud_indicator'], axis=1)\n",
    "\n",
    "y_test = test_df['Fraud_indicator']\n",
    "X_test = test_df.drop(['Fraud_indicator'], axis=1)"
   ]
  },
  {
   "cell_type": "markdown",
   "id": "79fd1b8c",
   "metadata": {},
   "source": [
    "# Data exploration and cleaning"
   ]
  },
  {
   "cell_type": "markdown",
   "id": "a9c8ea61",
   "metadata": {},
   "source": [
    "## Vehicle_Type\n",
    "- simple encoding\n",
    "- remove blank spaces in the string\n",
    "- vehicle can have correlation with toll value"
   ]
  },
  {
   "cell_type": "code",
   "execution_count": 15,
   "id": "4dfd1d74",
   "metadata": {},
   "outputs": [
    {
     "data": {
      "text/plain": [
       "Vehicle_Type\n",
       "SUV           627\n",
       "Bus           625\n",
       "Van           621\n",
       "Car           621\n",
       "Truck         620\n",
       "Sedan         619\n",
       "Motorcycle    616\n",
       "Name: count, dtype: int64"
      ]
     },
     "metadata": {},
     "output_type": "display_data"
    }
   ],
   "source": [
    "# Checking vehicle types\n",
    "category_counts = X_train['Vehicle_Type'].value_counts()\n",
    "display(category_counts)"
   ]
  },
  {
   "cell_type": "code",
   "execution_count": 16,
   "id": "2673247c",
   "metadata": {},
   "outputs": [
    {
     "data": {
      "text/plain": [
       "Vehicle_Type\n",
       "1    627\n",
       "2    625\n",
       "3    621\n",
       "4    621\n",
       "5    620\n",
       "6    619\n",
       "7    616\n",
       "Name: count, dtype: int64"
      ]
     },
     "execution_count": 16,
     "metadata": {},
     "output_type": "execute_result"
    }
   ],
   "source": [
    "# It's possible to make an simple encoding\n",
    "## we used the strip() method to remove any blank spaces that could cause error\n",
    "## I did it here just to study, when we deploy the app, all those cleanings will be applied when the input comes\n",
    "\n",
    "vehicle_dict = {\"SUV\"       : 1 ,\n",
    "                \"Bus\"       : 2 ,\n",
    "                \"Van\"       : 3 ,\n",
    "                \"Car\"       : 4 ,\n",
    "                \"Truck\"     : 5 ,\n",
    "                \"Sedan\"     : 6 ,\n",
    "                \"Motorcycle\": 7 }\n",
    "\n",
    "X_train[\"Vehicle_Type\"] = X_train.Vehicle_Type.str.strip().apply(lambda x: vehicle_dict[x])\n",
    "\n",
    "X_train.Vehicle_Type.value_counts()"
   ]
  },
  {
   "cell_type": "markdown",
   "id": "8f591eae",
   "metadata": {},
   "source": [
    "## FastagID\n",
    "- It's the pre-paid tag id\n",
    "- Turn this column into \"has fasttag or not\"\n",
    "\n",
    "Questions\n",
    "- Can it be in different vehicles of the same owner? I checked and no\n",
    "- Makes sense to keep it in the dataset? Not this way, all unique values or Na\n",
    "- Can we use this column in some way? Yes, we can create a Flag indicating if it has tag or not"
   ]
  },
  {
   "cell_type": "code",
   "execution_count": 24,
   "id": "3a38d821",
   "metadata": {},
   "outputs": [
    {
     "data": {
      "text/plain": [
       "(4349, 15)"
      ]
     },
     "execution_count": 24,
     "metadata": {},
     "output_type": "execute_result"
    }
   ],
   "source": [
    "X_train.shape"
   ]
  },
  {
   "cell_type": "code",
   "execution_count": null,
   "id": "0bf12f6f",
   "metadata": {},
   "outputs": [
    {
     "data": {
      "text/plain": [
       "3883"
      ]
     },
     "execution_count": 25,
     "metadata": {},
     "output_type": "execute_result"
    }
   ],
   "source": [
    "X_train['FastagID'].nunique()"
   ]
  },
  {
   "cell_type": "code",
   "execution_count": 30,
   "id": "26c9a477",
   "metadata": {},
   "outputs": [
    {
     "data": {
      "text/plain": [
       "np.int64(466)"
      ]
     },
     "execution_count": 30,
     "metadata": {},
     "output_type": "execute_result"
    }
   ],
   "source": [
    "X_train['FastagID'].isna().sum()"
   ]
  },
  {
   "cell_type": "code",
   "execution_count": 31,
   "id": "9e630d0a",
   "metadata": {},
   "outputs": [
    {
     "data": {
      "text/plain": [
       "FastagID\n",
       "1    3883\n",
       "0     466\n",
       "Name: count, dtype: int64"
      ]
     },
     "execution_count": 31,
     "metadata": {},
     "output_type": "execute_result"
    }
   ],
   "source": [
    "X_train['FastagID'] = np.where(X_train['FastagID'].isna(), 0, 1)\n",
    "X_train.FastagID.value_counts()"
   ]
  }
 ],
 "metadata": {
  "kernelspec": {
   "display_name": "venv",
   "language": "python",
   "name": "python3"
  },
  "language_info": {
   "codemirror_mode": {
    "name": "ipython",
    "version": 3
   },
   "file_extension": ".py",
   "mimetype": "text/x-python",
   "name": "python",
   "nbconvert_exporter": "python",
   "pygments_lexer": "ipython3",
   "version": "3.12.3"
  }
 },
 "nbformat": 4,
 "nbformat_minor": 5
}
