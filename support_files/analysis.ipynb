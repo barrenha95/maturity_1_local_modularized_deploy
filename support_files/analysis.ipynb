{
 "cells": [
  {
   "cell_type": "code",
   "execution_count": 810,
   "id": "89ab8c76",
   "metadata": {},
   "outputs": [],
   "source": [
    "# Imports for data handling\n",
    "import numpy  as np\n",
    "import pandas as pd\n",
    "import datetime\n",
    "import matplotlib.pyplot as plt\n",
    "import seaborn as sns\n",
    "\n",
    "# Imports for machine learning model\n",
    "from sklearn.model_selection import train_test_split\n",
    "from sklearn.preprocessing   import MinMaxScaler\n",
    "from sklearn.feature_selection import chi2\n"
   ]
  },
  {
   "cell_type": "markdown",
   "id": "f96b30dc",
   "metadata": {},
   "source": [
    "# Splitting data for training and evalution of the model"
   ]
  },
  {
   "cell_type": "code",
   "execution_count": 811,
   "id": "a210c12d",
   "metadata": {},
   "outputs": [
    {
     "data": {
      "text/plain": [
       "(5000, 13)"
      ]
     },
     "execution_count": 811,
     "metadata": {},
     "output_type": "execute_result"
    }
   ],
   "source": [
    "dataset = pd.read_csv('../data/original_data.csv', parse_dates=['Timestamp'])\n",
    "dataset.shape"
   ]
  },
  {
   "cell_type": "code",
   "execution_count": 812,
   "id": "1abca17f",
   "metadata": {},
   "outputs": [
    {
     "data": {
      "text/html": [
       "<div>\n",
       "<style scoped>\n",
       "    .dataframe tbody tr th:only-of-type {\n",
       "        vertical-align: middle;\n",
       "    }\n",
       "\n",
       "    .dataframe tbody tr th {\n",
       "        vertical-align: top;\n",
       "    }\n",
       "\n",
       "    .dataframe thead th {\n",
       "        text-align: right;\n",
       "    }\n",
       "</style>\n",
       "<table border=\"1\" class=\"dataframe\">\n",
       "  <thead>\n",
       "    <tr style=\"text-align: right;\">\n",
       "      <th></th>\n",
       "      <th>Transaction_ID</th>\n",
       "      <th>Timestamp</th>\n",
       "      <th>Vehicle_Type</th>\n",
       "      <th>FastagID</th>\n",
       "      <th>TollBoothID</th>\n",
       "      <th>Lane_Type</th>\n",
       "      <th>Vehicle_Dimensions</th>\n",
       "      <th>Transaction_Amount</th>\n",
       "      <th>Amount_paid</th>\n",
       "      <th>Geographical_Location</th>\n",
       "      <th>Vehicle_Speed</th>\n",
       "      <th>Vehicle_Plate_Number</th>\n",
       "      <th>Fraud_indicator</th>\n",
       "    </tr>\n",
       "  </thead>\n",
       "  <tbody>\n",
       "    <tr>\n",
       "      <th>0</th>\n",
       "      <td>1</td>\n",
       "      <td>2023-01-06 11:20:00</td>\n",
       "      <td>Bus</td>\n",
       "      <td>FTG-001-ABC-121</td>\n",
       "      <td>A-101</td>\n",
       "      <td>Express</td>\n",
       "      <td>Large</td>\n",
       "      <td>350</td>\n",
       "      <td>120</td>\n",
       "      <td>13.059816123454882, 77.77068662374292</td>\n",
       "      <td>65</td>\n",
       "      <td>KA11AB1234</td>\n",
       "      <td>1</td>\n",
       "    </tr>\n",
       "    <tr>\n",
       "      <th>1</th>\n",
       "      <td>2</td>\n",
       "      <td>2023-01-07 14:55:00</td>\n",
       "      <td>Car</td>\n",
       "      <td>FTG-002-XYZ-451</td>\n",
       "      <td>B-102</td>\n",
       "      <td>Regular</td>\n",
       "      <td>Small</td>\n",
       "      <td>120</td>\n",
       "      <td>100</td>\n",
       "      <td>13.059816123454882, 77.77068662374292</td>\n",
       "      <td>78</td>\n",
       "      <td>KA66CD5678</td>\n",
       "      <td>1</td>\n",
       "    </tr>\n",
       "    <tr>\n",
       "      <th>2</th>\n",
       "      <td>3</td>\n",
       "      <td>2023-01-08 18:25:00</td>\n",
       "      <td>Motorcycle</td>\n",
       "      <td>NaN</td>\n",
       "      <td>D-104</td>\n",
       "      <td>Regular</td>\n",
       "      <td>Small</td>\n",
       "      <td>0</td>\n",
       "      <td>0</td>\n",
       "      <td>13.059816123454882, 77.77068662374292</td>\n",
       "      <td>53</td>\n",
       "      <td>KA88EF9012</td>\n",
       "      <td>0</td>\n",
       "    </tr>\n",
       "    <tr>\n",
       "      <th>3</th>\n",
       "      <td>4</td>\n",
       "      <td>2023-01-09 02:05:00</td>\n",
       "      <td>Truck</td>\n",
       "      <td>FTG-044-LMN-322</td>\n",
       "      <td>C-103</td>\n",
       "      <td>Regular</td>\n",
       "      <td>Large</td>\n",
       "      <td>350</td>\n",
       "      <td>120</td>\n",
       "      <td>13.059816123454882, 77.77068662374292</td>\n",
       "      <td>92</td>\n",
       "      <td>KA11GH3456</td>\n",
       "      <td>1</td>\n",
       "    </tr>\n",
       "    <tr>\n",
       "      <th>4</th>\n",
       "      <td>5</td>\n",
       "      <td>2023-01-10 06:35:00</td>\n",
       "      <td>Van</td>\n",
       "      <td>FTG-505-DEF-652</td>\n",
       "      <td>B-102</td>\n",
       "      <td>Express</td>\n",
       "      <td>Medium</td>\n",
       "      <td>140</td>\n",
       "      <td>100</td>\n",
       "      <td>13.059816123454882, 77.77068662374292</td>\n",
       "      <td>60</td>\n",
       "      <td>KA44IJ6789</td>\n",
       "      <td>1</td>\n",
       "    </tr>\n",
       "  </tbody>\n",
       "</table>\n",
       "</div>"
      ],
      "text/plain": [
       "   Transaction_ID           Timestamp Vehicle_Type         FastagID  \\\n",
       "0               1 2023-01-06 11:20:00         Bus   FTG-001-ABC-121   \n",
       "1               2 2023-01-07 14:55:00          Car  FTG-002-XYZ-451   \n",
       "2               3 2023-01-08 18:25:00   Motorcycle              NaN   \n",
       "3               4 2023-01-09 02:05:00        Truck  FTG-044-LMN-322   \n",
       "4               5 2023-01-10 06:35:00          Van  FTG-505-DEF-652   \n",
       "\n",
       "  TollBoothID Lane_Type Vehicle_Dimensions  Transaction_Amount  Amount_paid  \\\n",
       "0       A-101   Express              Large                 350          120   \n",
       "1       B-102   Regular              Small                 120          100   \n",
       "2       D-104   Regular              Small                   0            0   \n",
       "3       C-103   Regular              Large                 350          120   \n",
       "4       B-102   Express             Medium                 140          100   \n",
       "\n",
       "                   Geographical_Location  Vehicle_Speed Vehicle_Plate_Number  \\\n",
       "0  13.059816123454882, 77.77068662374292             65           KA11AB1234   \n",
       "1  13.059816123454882, 77.77068662374292             78           KA66CD5678   \n",
       "2  13.059816123454882, 77.77068662374292             53           KA88EF9012   \n",
       "3  13.059816123454882, 77.77068662374292             92           KA11GH3456   \n",
       "4  13.059816123454882, 77.77068662374292             60           KA44IJ6789   \n",
       "\n",
       "   Fraud_indicator  \n",
       "0                1  \n",
       "1                1  \n",
       "2                0  \n",
       "3                1  \n",
       "4                1  "
      ]
     },
     "execution_count": 812,
     "metadata": {},
     "output_type": "execute_result"
    }
   ],
   "source": [
    "dataset['Fraud_indicator'] = np.where(dataset['Fraud_indicator']== 'Fraud', 1, 0)\n",
    "dataset.head(5)"
   ]
  },
  {
   "cell_type": "markdown",
   "id": "18019719",
   "metadata": {},
   "source": [
    "This dataset has biggest challenges in data handling compared to the last project.\n",
    "As you can see there are many text columns and some of them need to be handled to extract the max prediction power possible.\n",
    "\n",
    "Here are some ideas we will try:\n",
    "- Instead of split the dataset into aleatory train and test, split using cronological criteria\n",
    "- Split date and time, maybe frauds could happens more in an certain time\n",
    "- Create historical features for example: how many frauds this customer had? how many frauds in this place?"
   ]
  },
  {
   "cell_type": "markdown",
   "id": "031ab4d4",
   "metadata": {},
   "source": [
    "# Timestamp analysis"
   ]
  },
  {
   "cell_type": "code",
   "execution_count": 813,
   "id": "779b4bbc",
   "metadata": {},
   "outputs": [
    {
     "data": {
      "text/html": [
       "<div>\n",
       "<style scoped>\n",
       "    .dataframe tbody tr th:only-of-type {\n",
       "        vertical-align: middle;\n",
       "    }\n",
       "\n",
       "    .dataframe tbody tr th {\n",
       "        vertical-align: top;\n",
       "    }\n",
       "\n",
       "    .dataframe thead th {\n",
       "        text-align: right;\n",
       "    }\n",
       "</style>\n",
       "<table border=\"1\" class=\"dataframe\">\n",
       "  <thead>\n",
       "    <tr style=\"text-align: right;\">\n",
       "      <th></th>\n",
       "      <th>Transaction_ID</th>\n",
       "      <th>Timestamp</th>\n",
       "      <th>Vehicle_Type</th>\n",
       "      <th>FastagID</th>\n",
       "      <th>TollBoothID</th>\n",
       "      <th>Lane_Type</th>\n",
       "      <th>Vehicle_Dimensions</th>\n",
       "      <th>Transaction_Amount</th>\n",
       "      <th>Amount_paid</th>\n",
       "      <th>Geographical_Location</th>\n",
       "      <th>Vehicle_Speed</th>\n",
       "      <th>Vehicle_Plate_Number</th>\n",
       "      <th>Fraud_indicator</th>\n",
       "      <th>Date</th>\n",
       "      <th>Day</th>\n",
       "      <th>Hour</th>\n",
       "    </tr>\n",
       "  </thead>\n",
       "  <tbody>\n",
       "    <tr>\n",
       "      <th>0</th>\n",
       "      <td>1</td>\n",
       "      <td>2023-01-06 11:20:00</td>\n",
       "      <td>Bus</td>\n",
       "      <td>FTG-001-ABC-121</td>\n",
       "      <td>A-101</td>\n",
       "      <td>Express</td>\n",
       "      <td>Large</td>\n",
       "      <td>350</td>\n",
       "      <td>120</td>\n",
       "      <td>13.059816123454882, 77.77068662374292</td>\n",
       "      <td>65</td>\n",
       "      <td>KA11AB1234</td>\n",
       "      <td>1</td>\n",
       "      <td>2023-01-06</td>\n",
       "      <td>6</td>\n",
       "      <td>11</td>\n",
       "    </tr>\n",
       "    <tr>\n",
       "      <th>1</th>\n",
       "      <td>2</td>\n",
       "      <td>2023-01-07 14:55:00</td>\n",
       "      <td>Car</td>\n",
       "      <td>FTG-002-XYZ-451</td>\n",
       "      <td>B-102</td>\n",
       "      <td>Regular</td>\n",
       "      <td>Small</td>\n",
       "      <td>120</td>\n",
       "      <td>100</td>\n",
       "      <td>13.059816123454882, 77.77068662374292</td>\n",
       "      <td>78</td>\n",
       "      <td>KA66CD5678</td>\n",
       "      <td>1</td>\n",
       "      <td>2023-01-07</td>\n",
       "      <td>7</td>\n",
       "      <td>14</td>\n",
       "    </tr>\n",
       "    <tr>\n",
       "      <th>2</th>\n",
       "      <td>3</td>\n",
       "      <td>2023-01-08 18:25:00</td>\n",
       "      <td>Motorcycle</td>\n",
       "      <td>NaN</td>\n",
       "      <td>D-104</td>\n",
       "      <td>Regular</td>\n",
       "      <td>Small</td>\n",
       "      <td>0</td>\n",
       "      <td>0</td>\n",
       "      <td>13.059816123454882, 77.77068662374292</td>\n",
       "      <td>53</td>\n",
       "      <td>KA88EF9012</td>\n",
       "      <td>0</td>\n",
       "      <td>2023-01-08</td>\n",
       "      <td>8</td>\n",
       "      <td>18</td>\n",
       "    </tr>\n",
       "    <tr>\n",
       "      <th>3</th>\n",
       "      <td>4</td>\n",
       "      <td>2023-01-09 02:05:00</td>\n",
       "      <td>Truck</td>\n",
       "      <td>FTG-044-LMN-322</td>\n",
       "      <td>C-103</td>\n",
       "      <td>Regular</td>\n",
       "      <td>Large</td>\n",
       "      <td>350</td>\n",
       "      <td>120</td>\n",
       "      <td>13.059816123454882, 77.77068662374292</td>\n",
       "      <td>92</td>\n",
       "      <td>KA11GH3456</td>\n",
       "      <td>1</td>\n",
       "      <td>2023-01-09</td>\n",
       "      <td>9</td>\n",
       "      <td>2</td>\n",
       "    </tr>\n",
       "    <tr>\n",
       "      <th>4</th>\n",
       "      <td>5</td>\n",
       "      <td>2023-01-10 06:35:00</td>\n",
       "      <td>Van</td>\n",
       "      <td>FTG-505-DEF-652</td>\n",
       "      <td>B-102</td>\n",
       "      <td>Express</td>\n",
       "      <td>Medium</td>\n",
       "      <td>140</td>\n",
       "      <td>100</td>\n",
       "      <td>13.059816123454882, 77.77068662374292</td>\n",
       "      <td>60</td>\n",
       "      <td>KA44IJ6789</td>\n",
       "      <td>1</td>\n",
       "      <td>2023-01-10</td>\n",
       "      <td>10</td>\n",
       "      <td>6</td>\n",
       "    </tr>\n",
       "  </tbody>\n",
       "</table>\n",
       "</div>"
      ],
      "text/plain": [
       "   Transaction_ID           Timestamp Vehicle_Type         FastagID  \\\n",
       "0               1 2023-01-06 11:20:00         Bus   FTG-001-ABC-121   \n",
       "1               2 2023-01-07 14:55:00          Car  FTG-002-XYZ-451   \n",
       "2               3 2023-01-08 18:25:00   Motorcycle              NaN   \n",
       "3               4 2023-01-09 02:05:00        Truck  FTG-044-LMN-322   \n",
       "4               5 2023-01-10 06:35:00          Van  FTG-505-DEF-652   \n",
       "\n",
       "  TollBoothID Lane_Type Vehicle_Dimensions  Transaction_Amount  Amount_paid  \\\n",
       "0       A-101   Express              Large                 350          120   \n",
       "1       B-102   Regular              Small                 120          100   \n",
       "2       D-104   Regular              Small                   0            0   \n",
       "3       C-103   Regular              Large                 350          120   \n",
       "4       B-102   Express             Medium                 140          100   \n",
       "\n",
       "                   Geographical_Location  Vehicle_Speed Vehicle_Plate_Number  \\\n",
       "0  13.059816123454882, 77.77068662374292             65           KA11AB1234   \n",
       "1  13.059816123454882, 77.77068662374292             78           KA66CD5678   \n",
       "2  13.059816123454882, 77.77068662374292             53           KA88EF9012   \n",
       "3  13.059816123454882, 77.77068662374292             92           KA11GH3456   \n",
       "4  13.059816123454882, 77.77068662374292             60           KA44IJ6789   \n",
       "\n",
       "   Fraud_indicator        Date  Day  Hour  \n",
       "0                1  2023-01-06    6    11  \n",
       "1                1  2023-01-07    7    14  \n",
       "2                0  2023-01-08    8    18  \n",
       "3                1  2023-01-09    9     2  \n",
       "4                1  2023-01-10   10     6  "
      ]
     },
     "execution_count": 813,
     "metadata": {},
     "output_type": "execute_result"
    }
   ],
   "source": [
    "dataset['Date'] = dataset['Timestamp'].dt.date\n",
    "dataset['Day']  = dataset['Timestamp'].dt.day\n",
    "dataset['Hour'] = dataset['Timestamp'].dt.hour\n",
    "dataset.head(5)"
   ]
  },
  {
   "cell_type": "code",
   "execution_count": 814,
   "id": "b7deed19",
   "metadata": {},
   "outputs": [
    {
     "data": {
      "text/plain": [
       "Timestamp\n",
       "2023    5000\n",
       "Name: count, dtype: int64"
      ]
     },
     "metadata": {},
     "output_type": "display_data"
    }
   ],
   "source": [
    "# There are only data of 2023\n",
    "category_counts = dataset['Timestamp'].dt.year.value_counts()\n",
    "display(category_counts)\n"
   ]
  },
  {
   "cell_type": "code",
   "execution_count": 815,
   "id": "6c30360b",
   "metadata": {},
   "outputs": [
    {
     "data": {
      "text/plain": [
       "Timestamp\n",
       "1     546\n",
       "3     514\n",
       "2     511\n",
       "4     462\n",
       "5     445\n",
       "6     418\n",
       "7     378\n",
       "8     374\n",
       "9     363\n",
       "10    338\n",
       "11    327\n",
       "12    324\n",
       "Name: count, dtype: int64"
      ]
     },
     "metadata": {},
     "output_type": "display_data"
    }
   ],
   "source": [
    "# We can see that the data is balanced  along the months.\n",
    "# An ideia is to split the train data until October and use November + December as test data\n",
    "category_counts = dataset['Timestamp'].dt.month.value_counts()\n",
    "display(category_counts)\n"
   ]
  },
  {
   "cell_type": "code",
   "execution_count": 816,
   "id": "cb00f7bc",
   "metadata": {},
   "outputs": [],
   "source": [
    "# Splitting into train and test using the timestamp column\n",
    "## The idea is to use older data to train and newer data to test, this can bring more confidence that the model is usable with new data\n",
    "df_sorted = dataset.sort_values(by='Timestamp')\n",
    "\n",
    "min_dt = pd.to_datetime('2023-11-01')\n",
    "max_dt = pd.to_datetime('2023-12-01')\n",
    "\n",
    "train_df = df_sorted[df_sorted['Timestamp'] < min_dt]\n",
    "test_df = df_sorted[df_sorted['Timestamp'].between(min_dt, max_dt) ]\n",
    "new_df = df_sorted[df_sorted['Timestamp']   >= max_dt]"
   ]
  },
  {
   "cell_type": "code",
   "execution_count": 817,
   "id": "8f76148b",
   "metadata": {},
   "outputs": [
    {
     "data": {
      "text/plain": [
       "(4349, 16)"
      ]
     },
     "execution_count": 817,
     "metadata": {},
     "output_type": "execute_result"
    }
   ],
   "source": [
    "train_df.shape"
   ]
  },
  {
   "cell_type": "code",
   "execution_count": 818,
   "id": "0dee1e52",
   "metadata": {},
   "outputs": [
    {
     "data": {
      "text/plain": [
       "(327, 16)"
      ]
     },
     "execution_count": 818,
     "metadata": {},
     "output_type": "execute_result"
    }
   ],
   "source": [
    "test_df.shape"
   ]
  },
  {
   "cell_type": "code",
   "execution_count": 819,
   "id": "c5484949",
   "metadata": {},
   "outputs": [
    {
     "data": {
      "text/plain": [
       "(324, 16)"
      ]
     },
     "execution_count": 819,
     "metadata": {},
     "output_type": "execute_result"
    }
   ],
   "source": [
    "new_df.shape"
   ]
  },
  {
   "cell_type": "code",
   "execution_count": 820,
   "id": "4046cfb1",
   "metadata": {},
   "outputs": [],
   "source": [
    "y_train = train_df['Fraud_indicator']\n",
    "X_train = train_df.drop(['Fraud_indicator'], axis=1)\n",
    "\n",
    "y_test = test_df['Fraud_indicator']\n",
    "X_test = test_df.drop(['Fraud_indicator'], axis=1)"
   ]
  },
  {
   "cell_type": "code",
   "execution_count": 821,
   "id": "fa774d94",
   "metadata": {},
   "outputs": [],
   "source": [
    "train_df.to_csv('../data/train.csv')\n",
    "test_df.to_csv('../data/test.csv')\n",
    "new_df.to_csv('../data/new.csv')"
   ]
  },
  {
   "cell_type": "markdown",
   "id": "79fd1b8c",
   "metadata": {},
   "source": [
    "# Data exploration and cleaning"
   ]
  },
  {
   "cell_type": "markdown",
   "id": "a9c8ea61",
   "metadata": {},
   "source": [
    "## Vehicle_Type\n",
    "- simple encoding\n",
    "- remove blank spaces in the string\n",
    "- vehicle can have correlation with toll value"
   ]
  },
  {
   "cell_type": "code",
   "execution_count": 822,
   "id": "4dfd1d74",
   "metadata": {},
   "outputs": [
    {
     "data": {
      "text/plain": [
       "Vehicle_Type\n",
       "SUV           627\n",
       "Bus           625\n",
       "Van           621\n",
       "Car           621\n",
       "Truck         620\n",
       "Sedan         619\n",
       "Motorcycle    616\n",
       "Name: count, dtype: int64"
      ]
     },
     "metadata": {},
     "output_type": "display_data"
    }
   ],
   "source": [
    "# Checking vehicle types\n",
    "category_counts = X_train['Vehicle_Type'].value_counts()\n",
    "display(category_counts)"
   ]
  },
  {
   "cell_type": "code",
   "execution_count": 823,
   "id": "2673247c",
   "metadata": {},
   "outputs": [
    {
     "data": {
      "text/plain": [
       "Vehicle_Type\n",
       "1    627\n",
       "2    625\n",
       "3    621\n",
       "4    621\n",
       "5    620\n",
       "6    619\n",
       "7    616\n",
       "Name: count, dtype: int64"
      ]
     },
     "execution_count": 823,
     "metadata": {},
     "output_type": "execute_result"
    }
   ],
   "source": [
    "# It's possible to make an simple encoding\n",
    "## we used the strip() method to remove any blank spaces that could cause error\n",
    "## I did it here just to study, when we deploy the app, all those cleanings will be applied when the input comes\n",
    "\n",
    "vehicle_dict = {\"SUV\"       : 1 ,\n",
    "                \"Bus\"       : 2 ,\n",
    "                \"Van\"       : 3 ,\n",
    "                \"Car\"       : 4 ,\n",
    "                \"Truck\"     : 5 ,\n",
    "                \"Sedan\"     : 6 ,\n",
    "                \"Motorcycle\": 7 }\n",
    "\n",
    "X_train[\"Vehicle_Type\"] = X_train.Vehicle_Type.str.strip().apply(lambda x: vehicle_dict[x])\n",
    "\n",
    "X_train.Vehicle_Type.value_counts()"
   ]
  },
  {
   "cell_type": "markdown",
   "id": "8f591eae",
   "metadata": {},
   "source": [
    "## FastagID\n",
    "- It's the pre-paid tag id\n",
    "- Turn this column into \"has fasttag or not\"\n",
    "\n",
    "Questions\n",
    "- Can it be in different vehicles of the same owner? I checked and no\n",
    "- Makes sense to keep it in the dataset? Not this way, all unique values or Na\n",
    "- Can we use this column in some way? Yes, we can create a Flag indicating if it has tag or not"
   ]
  },
  {
   "cell_type": "code",
   "execution_count": 824,
   "id": "3a38d821",
   "metadata": {},
   "outputs": [
    {
     "data": {
      "text/plain": [
       "(4349, 15)"
      ]
     },
     "execution_count": 824,
     "metadata": {},
     "output_type": "execute_result"
    }
   ],
   "source": [
    "X_train.shape"
   ]
  },
  {
   "cell_type": "code",
   "execution_count": 825,
   "id": "0bf12f6f",
   "metadata": {},
   "outputs": [
    {
     "data": {
      "text/plain": [
       "3883"
      ]
     },
     "execution_count": 825,
     "metadata": {},
     "output_type": "execute_result"
    }
   ],
   "source": [
    "X_train['FastagID'].nunique()"
   ]
  },
  {
   "cell_type": "code",
   "execution_count": 826,
   "id": "26c9a477",
   "metadata": {},
   "outputs": [
    {
     "data": {
      "text/plain": [
       "np.int64(466)"
      ]
     },
     "execution_count": 826,
     "metadata": {},
     "output_type": "execute_result"
    }
   ],
   "source": [
    "X_train['FastagID'].isna().sum()"
   ]
  },
  {
   "cell_type": "code",
   "execution_count": 827,
   "id": "9e630d0a",
   "metadata": {},
   "outputs": [
    {
     "data": {
      "text/plain": [
       "FastagID\n",
       "1    3883\n",
       "0     466\n",
       "Name: count, dtype: int64"
      ]
     },
     "execution_count": 827,
     "metadata": {},
     "output_type": "execute_result"
    }
   ],
   "source": [
    "X_train['FastagID'] = np.where(X_train['FastagID'].isna(), 0, 1)\n",
    "X_train.FastagID.value_counts()"
   ]
  },
  {
   "cell_type": "markdown",
   "id": "f1e54286",
   "metadata": {},
   "source": [
    "## TollBoothID\n",
    "- Used for pinpointing locations\n",
    "\n",
    "Questions\n",
    "- How many categories exist? It will be possible to use it this way? Only 6.\n",
    "- Can it become an flag feature indicating high and low fraud tollbooth? There are just 6 categories of this feature, that could be an good idea if there were multiple categories."
   ]
  },
  {
   "cell_type": "code",
   "execution_count": 828,
   "id": "504f0b71",
   "metadata": {},
   "outputs": [
    {
     "data": {
      "text/plain": [
       "6"
      ]
     },
     "execution_count": 828,
     "metadata": {},
     "output_type": "execute_result"
    }
   ],
   "source": [
    "X_train['TollBoothID'].nunique()"
   ]
  },
  {
   "cell_type": "code",
   "execution_count": 829,
   "id": "f8e371f6",
   "metadata": {},
   "outputs": [
    {
     "data": {
      "text/plain": [
       "np.int64(0)"
      ]
     },
     "execution_count": 829,
     "metadata": {},
     "output_type": "execute_result"
    }
   ],
   "source": [
    "X_train['TollBoothID'].isna().sum()"
   ]
  },
  {
   "cell_type": "code",
   "execution_count": 830,
   "id": "c1b74f36",
   "metadata": {},
   "outputs": [
    {
     "name": "stdout",
     "output_type": "stream",
     "text": [
      "['D-106' 'A-101' 'B-102' 'C-103' 'D-105' 'D-104']\n"
     ]
    }
   ],
   "source": [
    "print(X_train['TollBoothID'].unique())"
   ]
  },
  {
   "cell_type": "code",
   "execution_count": 831,
   "id": "f6152416",
   "metadata": {},
   "outputs": [
    {
     "data": {
      "text/plain": [
       "TollBoothID\n",
       "3    1252\n",
       "4    1241\n",
       "2    1240\n",
       "1     489\n",
       "5      89\n",
       "6      38\n",
       "Name: count, dtype: int64"
      ]
     },
     "execution_count": 831,
     "metadata": {},
     "output_type": "execute_result"
    }
   ],
   "source": [
    "toolbooth_dict = {\"D-106\" : 1 ,\n",
    "                  \"A-101\" : 2 ,\n",
    "                  \"B-102\" : 3 ,\n",
    "                  \"C-103\" : 4 ,\n",
    "                  \"D-105\" : 5 ,\n",
    "                  \"D-104\" : 6 \n",
    "                   }\n",
    "\n",
    "X_train[\"TollBoothID\"] = X_train.TollBoothID.str.strip().apply(lambda x: toolbooth_dict[x])\n",
    "\n",
    "X_train.TollBoothID.value_counts()"
   ]
  },
  {
   "cell_type": "markdown",
   "id": "cdf0383e",
   "metadata": {},
   "source": [
    "# Lane_Type\n",
    "- The specific lane for the transaction\n",
    "\n",
    "Questions\n",
    "- Is there any lane usually used to make frauds?\n",
    "- Is there because of a fraudulent behavior or it's just coincidence?"
   ]
  },
  {
   "cell_type": "code",
   "execution_count": 832,
   "id": "8a14bc8f",
   "metadata": {},
   "outputs": [
    {
     "data": {
      "text/plain": [
       "2"
      ]
     },
     "execution_count": 832,
     "metadata": {},
     "output_type": "execute_result"
    }
   ],
   "source": [
    "X_train['Lane_Type'].nunique()"
   ]
  },
  {
   "cell_type": "code",
   "execution_count": 833,
   "id": "d229827d",
   "metadata": {},
   "outputs": [
    {
     "name": "stdout",
     "output_type": "stream",
     "text": [
      "['Regular' 'Express']\n"
     ]
    }
   ],
   "source": [
    "print(X_train['Lane_Type'].unique())"
   ]
  },
  {
   "cell_type": "code",
   "execution_count": 834,
   "id": "197ce77f",
   "metadata": {},
   "outputs": [
    {
     "data": {
      "text/plain": [
       "Lane_Type\n",
       "1    2480\n",
       "2    1869\n",
       "Name: count, dtype: int64"
      ]
     },
     "execution_count": 834,
     "metadata": {},
     "output_type": "execute_result"
    }
   ],
   "source": [
    "lane_dict = {\"Regular\" : 1 ,\n",
    "             \"Express\" : 2 }\n",
    "\n",
    "X_train[\"Lane_Type\"] = X_train.Lane_Type.str.strip().apply(lambda x: lane_dict[x])\n",
    "\n",
    "X_train.Lane_Type.value_counts()"
   ]
  },
  {
   "cell_type": "markdown",
   "id": "a26c5d97",
   "metadata": {},
   "source": [
    "# Vehicle_Dimensions\n",
    "\n",
    "Questions\n",
    "- Is there any size of vehicles used to make frauds?"
   ]
  },
  {
   "cell_type": "code",
   "execution_count": 835,
   "id": "09980288",
   "metadata": {},
   "outputs": [
    {
     "data": {
      "text/plain": [
       "3"
      ]
     },
     "execution_count": 835,
     "metadata": {},
     "output_type": "execute_result"
    }
   ],
   "source": [
    "X_train['Vehicle_Dimensions'].nunique()"
   ]
  },
  {
   "cell_type": "code",
   "execution_count": 836,
   "id": "d692039b",
   "metadata": {},
   "outputs": [
    {
     "name": "stdout",
     "output_type": "stream",
     "text": [
      "['Small' 'Medium' 'Large']\n"
     ]
    }
   ],
   "source": [
    "print(X_train['Vehicle_Dimensions'].unique())"
   ]
  },
  {
   "cell_type": "code",
   "execution_count": 837,
   "id": "d9adb54f",
   "metadata": {},
   "outputs": [
    {
     "data": {
      "text/plain": [
       "Vehicle_Dimensions\n",
       "3    1872\n",
       "2    1240\n",
       "1    1237\n",
       "Name: count, dtype: int64"
      ]
     },
     "execution_count": 837,
     "metadata": {},
     "output_type": "execute_result"
    }
   ],
   "source": [
    "dimensions_dict = {\"Small\"  : 1 ,\n",
    "                   \"Medium\" : 2 ,\n",
    "                   \"Large\"  : 3 }\n",
    "\n",
    "X_train[\"Vehicle_Dimensions\"] = X_train.Vehicle_Dimensions.str.strip().apply(lambda x: dimensions_dict[x])\n",
    "\n",
    "X_train.Vehicle_Dimensions.value_counts()"
   ]
  },
  {
   "cell_type": "markdown",
   "id": "f229b4cc",
   "metadata": {},
   "source": [
    "# Transaction_Amount\n",
    "\n",
    "Questions\n",
    "- Is there any pattern relacted to the amount o the transaction in fraud occurences?"
   ]
  },
  {
   "cell_type": "code",
   "execution_count": 838,
   "id": "3c371c7b",
   "metadata": {},
   "outputs": [
    {
     "data": {
      "image/png": "[encoded data removed]",
      "text/plain": [
       "<Figure size 640x480 with 1 Axes>"
      ]
     },
     "metadata": {},
     "output_type": "display_data"
    }
   ],
   "source": [
    "plt.hist(X_train['Transaction_Amount'], bins=20)\n",
    "plt.title('Transaction Amount')\n",
    "plt.xlabel('Value')\n",
    "plt.ylabel('Frequency')\n",
    "plt.show()"
   ]
  },
  {
   "cell_type": "code",
   "execution_count": 839,
   "id": "5c68a3dd",
   "metadata": {},
   "outputs": [
    {
     "data": {
      "text/plain": [
       "Transaction_Amount_cat\n",
       "(-0.35, 116.667]      1585\n",
       "(116.667, 233.333]    1519\n",
       "(233.333, 350.0]      1245\n",
       "Name: count, dtype: int64"
      ]
     },
     "execution_count": 839,
     "metadata": {},
     "output_type": "execute_result"
    }
   ],
   "source": [
    "\n",
    "# Checking the best way to cut the continuous column into bins\n",
    "X_train['Transaction_Amount_cat'] = pd.cut(X_train['Transaction_Amount'], bins=3) # Creates 5 equal-width bins\n",
    "X_train.Transaction_Amount_cat.value_counts()"
   ]
  },
  {
   "cell_type": "code",
   "execution_count": 840,
   "id": "f480376a",
   "metadata": {},
   "outputs": [
    {
     "data": {
      "text/plain": [
       "Transaction_Amount_cat\n",
       "0    1585\n",
       "1    1519\n",
       "2    1245\n",
       "3       0\n",
       "Name: count, dtype: int64"
      ]
     },
     "execution_count": 840,
     "metadata": {},
     "output_type": "execute_result"
    }
   ],
   "source": [
    "# Applying the specific cut to the dataframe\n",
    "## This is step is important to make the same splits of categories into new data\n",
    "## 0 = values below 115\n",
    "## 1 = values between 116 and 230\n",
    "## 2 = values between 231 and 350\n",
    "## 3 = values above 351\n",
    "\n",
    "bins = [-999999, 115, 230, 350, 99999]\n",
    "labels = ['0', '1', '2', '3']\n",
    "X_train['Transaction_Amount_cat'] = pd.cut(X_train['Transaction_Amount'] , bins=bins, labels=labels, right=True)\n",
    "X_train.Transaction_Amount_cat.value_counts()"
   ]
  },
  {
   "cell_type": "markdown",
   "id": "6e22fbaa",
   "metadata": {},
   "source": [
    "## Amount_paid: The actual amount paid reflecting any discounts, penalties, or outstanding balances.\n",
    "- A \"discount\" column could reveal anything? (Amout - Amount Paid)"
   ]
  },
  {
   "cell_type": "code",
   "execution_count": 841,
   "id": "8afd8536",
   "metadata": {},
   "outputs": [
    {
     "data": {
      "image/png": "[encoded data removed]",
      "text/plain": [
       "<Figure size 640x480 with 1 Axes>"
      ]
     },
     "metadata": {},
     "output_type": "display_data"
    }
   ],
   "source": [
    "plt.hist(X_train['Amount_paid'], bins=20)\n",
    "plt.title('Amount_Paid')\n",
    "plt.xlabel('Value')\n",
    "plt.ylabel('Frequency')\n",
    "plt.show()"
   ]
  },
  {
   "cell_type": "code",
   "execution_count": 842,
   "id": "ca82b8f6",
   "metadata": {},
   "outputs": [
    {
     "data": {
      "image/png": "[encoded data removed]",
      "text/plain": [
       "<Figure size 640x480 with 1 Axes>"
      ]
     },
     "metadata": {},
     "output_type": "display_data"
    }
   ],
   "source": [
    "X_train['Diff_paid'] = X_train['Transaction_Amount'] - X_train['Amount_paid']\n",
    "plt.hist(X_train['Diff_paid'], bins=20)\n",
    "plt.title('Diff_paid')\n",
    "plt.xlabel('Value')\n",
    "plt.ylabel('Frequency')\n",
    "plt.show()\n"
   ]
  },
  {
   "cell_type": "code",
   "execution_count": 843,
   "id": "94a28c72",
   "metadata": {},
   "outputs": [
    {
     "data": {
      "text/plain": [
       "Discount\n",
       "0    3493\n",
       "1     856\n",
       "Name: count, dtype: int64"
      ]
     },
     "execution_count": 843,
     "metadata": {},
     "output_type": "execute_result"
    }
   ],
   "source": [
    "X_train['Discount'] = np.where(X_train['Diff_paid']> 0, 1, 0)\n",
    "X_train.Discount.value_counts()"
   ]
  },
  {
   "cell_type": "code",
   "execution_count": 844,
   "id": "4d106590",
   "metadata": {},
   "outputs": [
    {
     "data": {
      "text/plain": [
       "No_change\n",
       "1    3472\n",
       "0     877\n",
       "Name: count, dtype: int64"
      ]
     },
     "execution_count": 844,
     "metadata": {},
     "output_type": "execute_result"
    }
   ],
   "source": [
    "X_train['No_change'] = np.where(X_train['Diff_paid'] == 0, 1, 0)\n",
    "X_train.No_change.value_counts()"
   ]
  },
  {
   "cell_type": "code",
   "execution_count": 845,
   "id": "03509e14",
   "metadata": {},
   "outputs": [
    {
     "data": {
      "text/plain": [
       "Penalty\n",
       "0    4328\n",
       "1      21\n",
       "Name: count, dtype: int64"
      ]
     },
     "execution_count": 845,
     "metadata": {},
     "output_type": "execute_result"
    }
   ],
   "source": [
    "X_train['Penalty'] = np.where(X_train['Diff_paid'] < 0, 1, 0)\n",
    "X_train.Penalty.value_counts()"
   ]
  },
  {
   "cell_type": "markdown",
   "id": "4fa9df3d",
   "metadata": {},
   "source": [
    "## Vehicle_Speed: The speed of the vehicle as it passed through the tollbooth"
   ]
  },
  {
   "cell_type": "code",
   "execution_count": 846,
   "id": "b4731e0c",
   "metadata": {},
   "outputs": [
    {
     "data": {
      "image/png": "[encoded data removed]",
      "text/plain": [
       "<Figure size 640x480 with 1 Axes>"
      ]
     },
     "metadata": {},
     "output_type": "display_data"
    }
   ],
   "source": [
    "plt.hist(X_train['Vehicle_Speed'], bins=20)\n",
    "plt.title('Vehicle_Speed')\n",
    "plt.xlabel('Value')\n",
    "plt.ylabel('Frequency')\n",
    "plt.show()\n"
   ]
  },
  {
   "cell_type": "code",
   "execution_count": 847,
   "id": "7f2d0f39",
   "metadata": {},
   "outputs": [
    {
     "data": {
      "text/plain": [
       "Vehicle_Speed_cat\n",
       "(46.0, 82.0]     2913\n",
       "(82.0, 118.0]    1011\n",
       "(9.892, 46.0]     425\n",
       "Name: count, dtype: int64"
      ]
     },
     "execution_count": 847,
     "metadata": {},
     "output_type": "execute_result"
    }
   ],
   "source": [
    "\n",
    "# Checking the best way to cut the continuous column into bins\n",
    "X_train['Vehicle_Speed_cat'] = pd.cut(X_train['Vehicle_Speed'], bins=3) # Creates 3 equal-width bins\n",
    "X_train.Vehicle_Speed_cat.value_counts()"
   ]
  },
  {
   "cell_type": "code",
   "execution_count": 848,
   "id": "633db09c",
   "metadata": {},
   "outputs": [
    {
     "data": {
      "text/plain": [
       "Vehicle_Speed_cat\n",
       "1    2395\n",
       "2    1180\n",
       "0     774\n",
       "3       0\n",
       "Name: count, dtype: int64"
      ]
     },
     "execution_count": 848,
     "metadata": {},
     "output_type": "execute_result"
    }
   ],
   "source": [
    "# Applying the specific cut to the dataframe\n",
    "## This is step is important to make the same splits of categories into new data\n",
    "## 0 = values below 50\n",
    "## 1 = values between 116 and 230\n",
    "## 2 = values between 231 and 350\n",
    "## 3 = values above 351\n",
    "\n",
    "bins = [-999999, 50, 80, 120, 99999]\n",
    "labels = ['0', '1', '2', '3']\n",
    "X_train['Vehicle_Speed_cat'] = pd.cut(X_train['Vehicle_Speed'] , bins=bins, labels=labels, right=True)\n",
    "X_train.Vehicle_Speed_cat.value_counts()"
   ]
  },
  {
   "cell_type": "markdown",
   "id": "858958b5",
   "metadata": {},
   "source": [
    "## Removing unused columns"
   ]
  },
  {
   "cell_type": "code",
   "execution_count": 849,
   "id": "9d52db10",
   "metadata": {},
   "outputs": [],
   "source": [
    "X_train = X_train.drop(['Vehicle_Plate_Number'\n",
    "                      , 'Geographical_Location'\n",
    "                      , 'Timestamp'\n",
    "                      , 'Diff_paid'\n",
    "                      , 'Transaction_Amount'\n",
    "                      , 'Amount_paid'\n",
    "                      , 'Vehicle_Speed'\n",
    "                      , 'Date'\n",
    "                      , 'Transaction_ID'\n",
    "                      , 'Day'\n",
    "                      , 'Hour'\n",
    "                      , 'TollBoothID'\n",
    "                      , 'Lane_Type'\n",
    "                      , 'Vehicle_Speed_cat'], axis=1)"
   ]
  },
  {
   "cell_type": "code",
   "execution_count": 850,
   "id": "0c2a57db",
   "metadata": {},
   "outputs": [
    {
     "data": {
      "text/html": [
       "<div>\n",
       "<style scoped>\n",
       "    .dataframe tbody tr th:only-of-type {\n",
       "        vertical-align: middle;\n",
       "    }\n",
       "\n",
       "    .dataframe tbody tr th {\n",
       "        vertical-align: top;\n",
       "    }\n",
       "\n",
       "    .dataframe thead th {\n",
       "        text-align: right;\n",
       "    }\n",
       "</style>\n",
       "<table border=\"1\" class=\"dataframe\">\n",
       "  <thead>\n",
       "    <tr style=\"text-align: right;\">\n",
       "      <th></th>\n",
       "      <th>Vehicle_Type</th>\n",
       "      <th>FastagID</th>\n",
       "      <th>Vehicle_Dimensions</th>\n",
       "      <th>Transaction_Amount_cat</th>\n",
       "      <th>Discount</th>\n",
       "      <th>No_change</th>\n",
       "      <th>Penalty</th>\n",
       "    </tr>\n",
       "  </thead>\n",
       "  <tbody>\n",
       "    <tr>\n",
       "      <th>1822</th>\n",
       "      <td>7</td>\n",
       "      <td>1</td>\n",
       "      <td>1</td>\n",
       "      <td>0</td>\n",
       "      <td>0</td>\n",
       "      <td>1</td>\n",
       "      <td>0</td>\n",
       "    </tr>\n",
       "    <tr>\n",
       "      <th>4070</th>\n",
       "      <td>7</td>\n",
       "      <td>0</td>\n",
       "      <td>1</td>\n",
       "      <td>0</td>\n",
       "      <td>0</td>\n",
       "      <td>1</td>\n",
       "      <td>0</td>\n",
       "    </tr>\n",
       "    <tr>\n",
       "      <th>2084</th>\n",
       "      <td>6</td>\n",
       "      <td>1</td>\n",
       "      <td>2</td>\n",
       "      <td>0</td>\n",
       "      <td>0</td>\n",
       "      <td>1</td>\n",
       "      <td>0</td>\n",
       "    </tr>\n",
       "    <tr>\n",
       "      <th>1327</th>\n",
       "      <td>3</td>\n",
       "      <td>1</td>\n",
       "      <td>2</td>\n",
       "      <td>1</td>\n",
       "      <td>0</td>\n",
       "      <td>1</td>\n",
       "      <td>0</td>\n",
       "    </tr>\n",
       "    <tr>\n",
       "      <th>112</th>\n",
       "      <td>2</td>\n",
       "      <td>1</td>\n",
       "      <td>3</td>\n",
       "      <td>2</td>\n",
       "      <td>1</td>\n",
       "      <td>0</td>\n",
       "      <td>0</td>\n",
       "    </tr>\n",
       "  </tbody>\n",
       "</table>\n",
       "</div>"
      ],
      "text/plain": [
       "      Vehicle_Type  FastagID  Vehicle_Dimensions Transaction_Amount_cat  \\\n",
       "1822             7         1                   1                      0   \n",
       "4070             7         0                   1                      0   \n",
       "2084             6         1                   2                      0   \n",
       "1327             3         1                   2                      1   \n",
       "112              2         1                   3                      2   \n",
       "\n",
       "      Discount  No_change  Penalty  \n",
       "1822         0          1        0  \n",
       "4070         0          1        0  \n",
       "2084         0          1        0  \n",
       "1327         0          1        0  \n",
       "112          1          0        0  "
      ]
     },
     "execution_count": 850,
     "metadata": {},
     "output_type": "execute_result"
    }
   ],
   "source": [
    "X_train.head(5)"
   ]
  },
  {
   "cell_type": "markdown",
   "id": "a968b627",
   "metadata": {},
   "source": [
    "# Feature selection"
   ]
  },
  {
   "cell_type": "code",
   "execution_count": 851,
   "id": "b75e7496",
   "metadata": {},
   "outputs": [],
   "source": [
    "feature_selection_df = pd.concat([X_train, y_train], axis=1)\n",
    "corr_matrix = feature_selection_df.corr(numeric_only=True)"
   ]
  },
  {
   "cell_type": "markdown",
   "id": "d6f21dcc",
   "metadata": {},
   "source": [
    "### Correlation Coefficient Interpretation (Pearson's r)\n",
    "\n",
    "| **Correlation Coefficient (r)** | **Strength of Relationship**   |\n",
    "|---------------------------------|--------------------------------|\n",
    "| 0.00 – 0.10                     | Very weak / negligible         |\n",
    "| 0.10 – 0.30                     | Weak                           |\n",
    "| 0.30 – 0.50                     | Moderate                       |\n",
    "| 0.50 – 0.70                     | Strong                         |\n",
    "| 0.70 – 0.90                     | Very strong                    |\n",
    "| 0.90 – 1.00                     | Extremely strong / almost perfect |\n",
    "\n",
    "- Negative values follow the same scale but indicate an **inverse relationship**.  \n",
    "- In ML, **very high correlation (>0.8)** between two features usually means one of them can be dropped (multicollinearity)."
   ]
  },
  {
   "cell_type": "code",
   "execution_count": 852,
   "id": "a4a347ca",
   "metadata": {},
   "outputs": [
    {
     "data": {
      "image/png": "[encoded data removed]",
      "text/plain": [
       "<Figure size 640x480 with 2 Axes>"
      ]
     },
     "metadata": {},
     "output_type": "display_data"
    }
   ],
   "source": [
    "## tollboothid, lane_type, hour, and day has almost no influence\n",
    "## \n",
    "sns.heatmap(corr_matrix, annot=True, cmap=\"coolwarm\")\n",
    "plt.show()"
   ]
  },
  {
   "cell_type": "markdown",
   "id": "24f178b6",
   "metadata": {},
   "source": [
    "### Chi-Square Test (p-value Interpretation)\n",
    "\n",
    "| **p-value**         | **Interpretation**                                   |\n",
    "|----------------------|-----------------------------------------------------|\n",
    "| p > 0.10             | No evidence of association (independent)            |\n",
    "| 0.05 < p ≤ 0.10      | Weak evidence of association (marginally significant)|\n",
    "| 0.01 < p ≤ 0.05      | Moderate evidence of association (statistically significant) |\n",
    "| 0.001 < p ≤ 0.01     | Strong evidence of association                      |\n",
    "| p ≤ 0.001            | Very strong evidence of association                 |\n",
    "\n",
    "- Lower p-values → stronger evidence against the null hypothesis.  \n",
    "- Always consider **sample size**: large datasets can produce very small p-values even for weak associations.  "
   ]
  },
  {
   "cell_type": "code",
   "execution_count": 853,
   "id": "96e0c7c5",
   "metadata": {},
   "outputs": [
    {
     "name": "stdout",
     "output_type": "stream",
     "text": [
      "Vehicle_Type: chi2=99.70, p-value=0.0000\n",
      "FastagID: chi2=14.13, p-value=0.0002\n",
      "Vehicle_Dimensions: chi2=33.08, p-value=0.0000\n",
      "Transaction_Amount_cat: chi2=56.86, p-value=0.0000\n",
      "Discount: chi2=3388.86, p-value=0.0000\n",
      "No_change: chi2=877.00, p-value=0.0000\n",
      "Penalty: chi2=83.14, p-value=0.0000\n"
     ]
    }
   ],
   "source": [
    "# Vehicle_Speed_cat looks non significant, so let's drop it too\n",
    "chi_scores, p_values = chi2(X_train, y_train)\n",
    "\n",
    "for feature, score, p in zip(X_train.columns, chi_scores, p_values):\n",
    "    print(f\"{feature}: chi2={score:.2f}, p-value={p:.4f}\")"
   ]
  },
  {
   "cell_type": "markdown",
   "id": "fb7d5981",
   "metadata": {},
   "source": [
    "# Applying scaler"
   ]
  },
  {
   "cell_type": "code",
   "execution_count": 854,
   "id": "1f25a183",
   "metadata": {},
   "outputs": [],
   "source": [
    "scaler = MinMaxScaler()\n",
    "X_train = scaler.fit_transform(X_train)"
   ]
  },
  {
   "cell_type": "code",
   "execution_count": 855,
   "id": "538da0ad",
   "metadata": {},
   "outputs": [
    {
     "data": {
      "text/plain": [
       "['../deployment/scaler.pkl']"
      ]
     },
     "execution_count": 855,
     "metadata": {},
     "output_type": "execute_result"
    }
   ],
   "source": [
    "# Saving the scaler\n",
    "import joblib\n",
    "joblib.dump(scaler, '../deployment/scaler.pkl')"
   ]
  }
 ],
 "metadata": {
  "kernelspec": {
   "display_name": "venv",
   "language": "python",
   "name": "python3"
  },
  "language_info": {
   "codemirror_mode": {
    "name": "ipython",
    "version": 3
   },
   "file_extension": ".py",
   "mimetype": "text/x-python",
   "name": "python",
   "nbconvert_exporter": "python",
   "pygments_lexer": "ipython3",
   "version": "3.12.3"
  }
 },
 "nbformat": 4,
 "nbformat_minor": 5
}
